{
 "cells": [
  {
   "cell_type": "code",
   "execution_count": 5,
   "id": "8356bb3e",
   "metadata": {},
   "outputs": [
    {
     "name": "stdout",
     "output_type": "stream",
     "text": [
      "Requirement already satisfied: psycopg2 in c:\\users\\sweta\\anaconda3\\envs\\pythondata\\lib\\site-packages (2.9.9)\n"
     ]
    }
   ],
   "source": [
    "!pip install psycopg2\n",
    "import psycopg2\n",
    "import psycopg2.extras\n",
    "import json\n",
    "import pandas as pd\n"
   ]
  },
  {
   "cell_type": "code",
   "execution_count": 7,
   "id": "06f51503",
   "metadata": {},
   "outputs": [
    {
     "data": {
      "text/plain": [
       "'[{\"actor_id\": 1, \"first_name\": \"Penelope\", \"last_name\": \"Guiness\"}, {\"actor_id\": 2, \"first_name\": \"Nick\", \"last_name\": \"Wahlberg\"}, {\"actor_id\": 3, \"first_name\": \"Ed\", \"last_name\": \"Chase\"}, {\"actor_id\": 4, \"first_name\": \"Jennifer\", \"last_name\": \"Davis\"}, {\"actor_id\": 5, \"first_name\": \"Johnny\", \"last_name\": \"Lollobrigida\"}, {\"actor_id\": 6, \"first_name\": \"Bette\", \"last_name\": \"Nicholson\"}, {\"actor_id\": 7, \"first_name\": \"Grace\", \"last_name\": \"Mostel\"}, {\"actor_id\": 8, \"first_name\": \"Matthew\", \"last_name\": \"Johansson\"}, {\"actor_id\": 9, \"first_name\": \"Joe\", \"last_name\": \"Swank\"}, {\"actor_id\": 10, \"first_name\": \"Christian\", \"last_name\": \"Gable\"}, {\"actor_id\": 11, \"first_name\": \"Zero\", \"last_name\": \"Cage\"}, {\"actor_id\": 12, \"first_name\": \"Karl\", \"last_name\": \"Berry\"}, {\"actor_id\": 13, \"first_name\": \"Uma\", \"last_name\": \"Wood\"}, {\"actor_id\": 14, \"first_name\": \"Vivien\", \"last_name\": \"Bergen\"}, {\"actor_id\": 15, \"first_name\": \"Cuba\", \"last_name\": \"Olivier\"}, {\"actor_id\": 16, \"first_name\": \"Fred\", \"last_name\": \"Costner\"}, {\"actor_id\": 17, \"first_name\": \"Helen\", \"last_name\": \"Voight\"}, {\"actor_id\": 18, \"first_name\": \"Dan\", \"last_name\": \"Torn\"}, {\"actor_id\": 19, \"first_name\": \"Bob\", \"last_name\": \"Fawcett\"}, {\"actor_id\": 20, \"first_name\": \"Lucille\", \"last_name\": \"Tracy\"}, {\"actor_id\": 21, \"first_name\": \"Kirsten\", \"last_name\": \"Paltrow\"}, {\"actor_id\": 22, \"first_name\": \"Elvis\", \"last_name\": \"Marx\"}, {\"actor_id\": 23, \"first_name\": \"Sandra\", \"last_name\": \"Kilmer\"}, {\"actor_id\": 24, \"first_name\": \"Cameron\", \"last_name\": \"Streep\"}, {\"actor_id\": 25, \"first_name\": \"Kevin\", \"last_name\": \"Bloom\"}, {\"actor_id\": 26, \"first_name\": \"Rip\", \"last_name\": \"Crawford\"}, {\"actor_id\": 27, \"first_name\": \"Julia\", \"last_name\": \"Mcqueen\"}, {\"actor_id\": 28, \"first_name\": \"Woody\", \"last_name\": \"Hoffman\"}, {\"actor_id\": 29, \"first_name\": \"Alec\", \"last_name\": \"Wayne\"}, {\"actor_id\": 30, \"first_name\": \"Sandra\", \"last_name\": \"Peck\"}, {\"actor_id\": 31, \"first_name\": \"Sissy\", \"last_name\": \"Sobieski\"}, {\"actor_id\": 32, \"first_name\": \"Tim\", \"last_name\": \"Hackman\"}, {\"actor_id\": 33, \"first_name\": \"Milla\", \"last_name\": \"Peck\"}, {\"actor_id\": 34, \"first_name\": \"Audrey\", \"last_name\": \"Olivier\"}, {\"actor_id\": 35, \"first_name\": \"Judy\", \"last_name\": \"Dean\"}, {\"actor_id\": 36, \"first_name\": \"Burt\", \"last_name\": \"Dukakis\"}, {\"actor_id\": 37, \"first_name\": \"Val\", \"last_name\": \"Bolger\"}, {\"actor_id\": 38, \"first_name\": \"Tom\", \"last_name\": \"Mckellen\"}, {\"actor_id\": 39, \"first_name\": \"Goldie\", \"last_name\": \"Brody\"}, {\"actor_id\": 40, \"first_name\": \"Johnny\", \"last_name\": \"Cage\"}, {\"actor_id\": 41, \"first_name\": \"Jodie\", \"last_name\": \"Degeneres\"}, {\"actor_id\": 42, \"first_name\": \"Tom\", \"last_name\": \"Miranda\"}, {\"actor_id\": 43, \"first_name\": \"Kirk\", \"last_name\": \"Jovovich\"}, {\"actor_id\": 44, \"first_name\": \"Nick\", \"last_name\": \"Stallone\"}, {\"actor_id\": 45, \"first_name\": \"Reese\", \"last_name\": \"Kilmer\"}, {\"actor_id\": 46, \"first_name\": \"Parker\", \"last_name\": \"Goldberg\"}, {\"actor_id\": 47, \"first_name\": \"Julia\", \"last_name\": \"Barrymore\"}, {\"actor_id\": 48, \"first_name\": \"Frances\", \"last_name\": \"Day-Lewis\"}, {\"actor_id\": 49, \"first_name\": \"Anne\", \"last_name\": \"Cronyn\"}, {\"actor_id\": 50, \"first_name\": \"Natalie\", \"last_name\": \"Hopkins\"}, {\"actor_id\": 51, \"first_name\": \"Gary\", \"last_name\": \"Phoenix\"}, {\"actor_id\": 52, \"first_name\": \"Carmen\", \"last_name\": \"Hunt\"}, {\"actor_id\": 53, \"first_name\": \"Mena\", \"last_name\": \"Temple\"}, {\"actor_id\": 54, \"first_name\": \"Penelope\", \"last_name\": \"Pinkett\"}, {\"actor_id\": 55, \"first_name\": \"Fay\", \"last_name\": \"Kilmer\"}, {\"actor_id\": 56, \"first_name\": \"Dan\", \"last_name\": \"Harris\"}, {\"actor_id\": 57, \"first_name\": \"Jude\", \"last_name\": \"Cruise\"}, {\"actor_id\": 58, \"first_name\": \"Christian\", \"last_name\": \"Akroyd\"}, {\"actor_id\": 59, \"first_name\": \"Dustin\", \"last_name\": \"Tautou\"}, {\"actor_id\": 60, \"first_name\": \"Henry\", \"last_name\": \"Berry\"}, {\"actor_id\": 61, \"first_name\": \"Christian\", \"last_name\": \"Neeson\"}, {\"actor_id\": 62, \"first_name\": \"Jayne\", \"last_name\": \"Neeson\"}, {\"actor_id\": 63, \"first_name\": \"Cameron\", \"last_name\": \"Wray\"}, {\"actor_id\": 64, \"first_name\": \"Ray\", \"last_name\": \"Johansson\"}, {\"actor_id\": 65, \"first_name\": \"Angela\", \"last_name\": \"Hudson\"}, {\"actor_id\": 66, \"first_name\": \"Mary\", \"last_name\": \"Tandy\"}, {\"actor_id\": 67, \"first_name\": \"Jessica\", \"last_name\": \"Bailey\"}, {\"actor_id\": 68, \"first_name\": \"Rip\", \"last_name\": \"Winslet\"}, {\"actor_id\": 69, \"first_name\": \"Kenneth\", \"last_name\": \"Paltrow\"}, {\"actor_id\": 70, \"first_name\": \"Michelle\", \"last_name\": \"Mcconaughey\"}, {\"actor_id\": 71, \"first_name\": \"Adam\", \"last_name\": \"Grant\"}, {\"actor_id\": 72, \"first_name\": \"Sean\", \"last_name\": \"Williams\"}, {\"actor_id\": 73, \"first_name\": \"Gary\", \"last_name\": \"Penn\"}, {\"actor_id\": 74, \"first_name\": \"Milla\", \"last_name\": \"Keitel\"}, {\"actor_id\": 75, \"first_name\": \"Burt\", \"last_name\": \"Posey\"}, {\"actor_id\": 76, \"first_name\": \"Angelina\", \"last_name\": \"Astaire\"}, {\"actor_id\": 77, \"first_name\": \"Cary\", \"last_name\": \"Mcconaughey\"}, {\"actor_id\": 78, \"first_name\": \"Groucho\", \"last_name\": \"Sinatra\"}, {\"actor_id\": 79, \"first_name\": \"Mae\", \"last_name\": \"Hoffman\"}, {\"actor_id\": 80, \"first_name\": \"Ralph\", \"last_name\": \"Cruz\"}, {\"actor_id\": 81, \"first_name\": \"Scarlett\", \"last_name\": \"Damon\"}, {\"actor_id\": 82, \"first_name\": \"Woody\", \"last_name\": \"Jolie\"}, {\"actor_id\": 83, \"first_name\": \"Ben\", \"last_name\": \"Willis\"}, {\"actor_id\": 84, \"first_name\": \"James\", \"last_name\": \"Pitt\"}, {\"actor_id\": 85, \"first_name\": \"Minnie\", \"last_name\": \"Zellweger\"}, {\"actor_id\": 143, \"first_name\": \"River\", \"last_name\": \"Dean\"}, {\"actor_id\": 86, \"first_name\": \"Greg\", \"last_name\": \"Chaplin\"}, {\"actor_id\": 87, \"first_name\": \"Spencer\", \"last_name\": \"Peck\"}, {\"actor_id\": 88, \"first_name\": \"Kenneth\", \"last_name\": \"Pesci\"}, {\"actor_id\": 89, \"first_name\": \"Charlize\", \"last_name\": \"Dench\"}, {\"actor_id\": 90, \"first_name\": \"Sean\", \"last_name\": \"Guiness\"}, {\"actor_id\": 91, \"first_name\": \"Christopher\", \"last_name\": \"Berry\"}, {\"actor_id\": 92, \"first_name\": \"Kirsten\", \"last_name\": \"Akroyd\"}, {\"actor_id\": 93, \"first_name\": \"Ellen\", \"last_name\": \"Presley\"}, {\"actor_id\": 94, \"first_name\": \"Kenneth\", \"last_name\": \"Torn\"}, {\"actor_id\": 95, \"first_name\": \"Daryl\", \"last_name\": \"Wahlberg\"}, {\"actor_id\": 96, \"first_name\": \"Gene\", \"last_name\": \"Willis\"}, {\"actor_id\": 97, \"first_name\": \"Meg\", \"last_name\": \"Hawke\"}, {\"actor_id\": 98, \"first_name\": \"Chris\", \"last_name\": \"Bridges\"}, {\"actor_id\": 99, \"first_name\": \"Jim\", \"last_name\": \"Mostel\"}, {\"actor_id\": 100, \"first_name\": \"Spencer\", \"last_name\": \"Depp\"}, {\"actor_id\": 101, \"first_name\": \"Susan\", \"last_name\": \"Davis\"}, {\"actor_id\": 102, \"first_name\": \"Walter\", \"last_name\": \"Torn\"}, {\"actor_id\": 103, \"first_name\": \"Matthew\", \"last_name\": \"Leigh\"}, {\"actor_id\": 104, \"first_name\": \"Penelope\", \"last_name\": \"Cronyn\"}, {\"actor_id\": 105, \"first_name\": \"Sidney\", \"last_name\": \"Crowe\"}, {\"actor_id\": 106, \"first_name\": \"Groucho\", \"last_name\": \"Dunst\"}, {\"actor_id\": 107, \"first_name\": \"Gina\", \"last_name\": \"Degeneres\"}, {\"actor_id\": 108, \"first_name\": \"Warren\", \"last_name\": \"Nolte\"}, {\"actor_id\": 109, \"first_name\": \"Sylvester\", \"last_name\": \"Dern\"}, {\"actor_id\": 110, \"first_name\": \"Susan\", \"last_name\": \"Davis\"}, {\"actor_id\": 111, \"first_name\": \"Cameron\", \"last_name\": \"Zellweger\"}, {\"actor_id\": 112, \"first_name\": \"Russell\", \"last_name\": \"Bacall\"}, {\"actor_id\": 113, \"first_name\": \"Morgan\", \"last_name\": \"Hopkins\"}, {\"actor_id\": 114, \"first_name\": \"Morgan\", \"last_name\": \"Mcdormand\"}, {\"actor_id\": 115, \"first_name\": \"Harrison\", \"last_name\": \"Bale\"}, {\"actor_id\": 116, \"first_name\": \"Dan\", \"last_name\": \"Streep\"}, {\"actor_id\": 117, \"first_name\": \"Renee\", \"last_name\": \"Tracy\"}, {\"actor_id\": 118, \"first_name\": \"Cuba\", \"last_name\": \"Allen\"}, {\"actor_id\": 119, \"first_name\": \"Warren\", \"last_name\": \"Jackman\"}, {\"actor_id\": 120, \"first_name\": \"Penelope\", \"last_name\": \"Monroe\"}, {\"actor_id\": 121, \"first_name\": \"Liza\", \"last_name\": \"Bergman\"}, {\"actor_id\": 122, \"first_name\": \"Salma\", \"last_name\": \"Nolte\"}, {\"actor_id\": 123, \"first_name\": \"Julianne\", \"last_name\": \"Dench\"}, {\"actor_id\": 124, \"first_name\": \"Scarlett\", \"last_name\": \"Bening\"}, {\"actor_id\": 125, \"first_name\": \"Albert\", \"last_name\": \"Nolte\"}, {\"actor_id\": 126, \"first_name\": \"Frances\", \"last_name\": \"Tomei\"}, {\"actor_id\": 127, \"first_name\": \"Kevin\", \"last_name\": \"Garland\"}, {\"actor_id\": 128, \"first_name\": \"Cate\", \"last_name\": \"Mcqueen\"}, {\"actor_id\": 129, \"first_name\": \"Daryl\", \"last_name\": \"Crawford\"}, {\"actor_id\": 130, \"first_name\": \"Greta\", \"last_name\": \"Keitel\"}, {\"actor_id\": 131, \"first_name\": \"Jane\", \"last_name\": \"Jackman\"}, {\"actor_id\": 132, \"first_name\": \"Adam\", \"last_name\": \"Hopper\"}, {\"actor_id\": 133, \"first_name\": \"Richard\", \"last_name\": \"Penn\"}, {\"actor_id\": 134, \"first_name\": \"Gene\", \"last_name\": \"Hopkins\"}, {\"actor_id\": 135, \"first_name\": \"Rita\", \"last_name\": \"Reynolds\"}, {\"actor_id\": 136, \"first_name\": \"Ed\", \"last_name\": \"Mansfield\"}, {\"actor_id\": 137, \"first_name\": \"Morgan\", \"last_name\": \"Williams\"}, {\"actor_id\": 138, \"first_name\": \"Lucille\", \"last_name\": \"Dee\"}, {\"actor_id\": 139, \"first_name\": \"Ewan\", \"last_name\": \"Gooding\"}, {\"actor_id\": 140, \"first_name\": \"Whoopi\", \"last_name\": \"Hurt\"}, {\"actor_id\": 141, \"first_name\": \"Cate\", \"last_name\": \"Harris\"}, {\"actor_id\": 142, \"first_name\": \"Jada\", \"last_name\": \"Ryder\"}, {\"actor_id\": 144, \"first_name\": \"Angela\", \"last_name\": \"Witherspoon\"}, {\"actor_id\": 145, \"first_name\": \"Kim\", \"last_name\": \"Allen\"}, {\"actor_id\": 146, \"first_name\": \"Albert\", \"last_name\": \"Johansson\"}, {\"actor_id\": 147, \"first_name\": \"Fay\", \"last_name\": \"Winslet\"}, {\"actor_id\": 148, \"first_name\": \"Emily\", \"last_name\": \"Dee\"}, {\"actor_id\": 149, \"first_name\": \"Russell\", \"last_name\": \"Temple\"}, {\"actor_id\": 150, \"first_name\": \"Jayne\", \"last_name\": \"Nolte\"}, {\"actor_id\": 151, \"first_name\": \"Geoffrey\", \"last_name\": \"Heston\"}, {\"actor_id\": 152, \"first_name\": \"Ben\", \"last_name\": \"Harris\"}, {\"actor_id\": 153, \"first_name\": \"Minnie\", \"last_name\": \"Kilmer\"}, {\"actor_id\": 154, \"first_name\": \"Meryl\", \"last_name\": \"Gibson\"}, {\"actor_id\": 155, \"first_name\": \"Ian\", \"last_name\": \"Tandy\"}, {\"actor_id\": 156, \"first_name\": \"Fay\", \"last_name\": \"Wood\"}, {\"actor_id\": 157, \"first_name\": \"Greta\", \"last_name\": \"Malden\"}, {\"actor_id\": 158, \"first_name\": \"Vivien\", \"last_name\": \"Basinger\"}, {\"actor_id\": 159, \"first_name\": \"Laura\", \"last_name\": \"Brody\"}, {\"actor_id\": 160, \"first_name\": \"Chris\", \"last_name\": \"Depp\"}, {\"actor_id\": 161, \"first_name\": \"Harvey\", \"last_name\": \"Hope\"}, {\"actor_id\": 162, \"first_name\": \"Oprah\", \"last_name\": \"Kilmer\"}, {\"actor_id\": 163, \"first_name\": \"Christopher\", \"last_name\": \"West\"}, {\"actor_id\": 164, \"first_name\": \"Humphrey\", \"last_name\": \"Willis\"}, {\"actor_id\": 165, \"first_name\": \"Al\", \"last_name\": \"Garland\"}, {\"actor_id\": 166, \"first_name\": \"Nick\", \"last_name\": \"Degeneres\"}, {\"actor_id\": 167, \"first_name\": \"Laurence\", \"last_name\": \"Bullock\"}, {\"actor_id\": 168, \"first_name\": \"Will\", \"last_name\": \"Wilson\"}, {\"actor_id\": 169, \"first_name\": \"Kenneth\", \"last_name\": \"Hoffman\"}, {\"actor_id\": 170, \"first_name\": \"Mena\", \"last_name\": \"Hopper\"}, {\"actor_id\": 171, \"first_name\": \"Olympia\", \"last_name\": \"Pfeiffer\"}, {\"actor_id\": 172, \"first_name\": \"Groucho\", \"last_name\": \"Williams\"}, {\"actor_id\": 173, \"first_name\": \"Alan\", \"last_name\": \"Dreyfuss\"}, {\"actor_id\": 174, \"first_name\": \"Michael\", \"last_name\": \"Bening\"}, {\"actor_id\": 175, \"first_name\": \"William\", \"last_name\": \"Hackman\"}, {\"actor_id\": 176, \"first_name\": \"Jon\", \"last_name\": \"Chase\"}, {\"actor_id\": 177, \"first_name\": \"Gene\", \"last_name\": \"Mckellen\"}, {\"actor_id\": 178, \"first_name\": \"Lisa\", \"last_name\": \"Monroe\"}, {\"actor_id\": 179, \"first_name\": \"Ed\", \"last_name\": \"Guiness\"}, {\"actor_id\": 180, \"first_name\": \"Jeff\", \"last_name\": \"Silverstone\"}, {\"actor_id\": 181, \"first_name\": \"Matthew\", \"last_name\": \"Carrey\"}, {\"actor_id\": 182, \"first_name\": \"Debbie\", \"last_name\": \"Akroyd\"}, {\"actor_id\": 183, \"first_name\": \"Russell\", \"last_name\": \"Close\"}, {\"actor_id\": 184, \"first_name\": \"Humphrey\", \"last_name\": \"Garland\"}, {\"actor_id\": 185, \"first_name\": \"Michael\", \"last_name\": \"Bolger\"}, {\"actor_id\": 186, \"first_name\": \"Julia\", \"last_name\": \"Zellweger\"}, {\"actor_id\": 187, \"first_name\": \"Renee\", \"last_name\": \"Ball\"}, {\"actor_id\": 188, \"first_name\": \"Rock\", \"last_name\": \"Dukakis\"}, {\"actor_id\": 189, \"first_name\": \"Cuba\", \"last_name\": \"Birch\"}, {\"actor_id\": 190, \"first_name\": \"Audrey\", \"last_name\": \"Bailey\"}, {\"actor_id\": 191, \"first_name\": \"Gregory\", \"last_name\": \"Gooding\"}, {\"actor_id\": 192, \"first_name\": \"John\", \"last_name\": \"Suvari\"}, {\"actor_id\": 193, \"first_name\": \"Burt\", \"last_name\": \"Temple\"}, {\"actor_id\": 194, \"first_name\": \"Meryl\", \"last_name\": \"Allen\"}, {\"actor_id\": 195, \"first_name\": \"Jayne\", \"last_name\": \"Silverstone\"}, {\"actor_id\": 196, \"first_name\": \"Bela\", \"last_name\": \"Walken\"}, {\"actor_id\": 197, \"first_name\": \"Reese\", \"last_name\": \"West\"}, {\"actor_id\": 198, \"first_name\": \"Mary\", \"last_name\": \"Keitel\"}, {\"actor_id\": 199, \"first_name\": \"Julia\", \"last_name\": \"Fawcett\"}, {\"actor_id\": 200, \"first_name\": \"Thora\", \"last_name\": \"Temple\"}]'"
      ]
     },
     "execution_count": 7,
     "metadata": {},
     "output_type": "execute_result"
    }
   ],
   "source": [
    "# declare the connection string specifying\n",
    "# the host name database name use name \n",
    "# and password\n",
    "conn_string = \"host=localhost port=5432 dbname=dvd_rental user=postgres password=PgAdmin123* sslmode=prefer connect_timeout=10\"\n",
    "\n",
    "# use connect function to establish the connection\n",
    "conn = psycopg2.connect(conn_string)\n",
    "\n",
    "cur = conn.cursor(cursor_factory = psycopg2.extras.RealDictCursor)\n",
    "cur.execute('SELECT actor_id, first_name, last_name FROM actor')\n",
    "res = cur.fetchall()\n",
    "json.dumps(res)"
   ]
  },
  {
   "cell_type": "code",
   "execution_count": 15,
   "id": "5bfd6fdd",
   "metadata": {},
   "outputs": [
    {
     "name": "stderr",
     "output_type": "stream",
     "text": [
      "c:\\Users\\Sweta\\anaconda3\\lib\\site-packages\\pandas\\io\\sql.py:762: UserWarning: pandas only support SQLAlchemy connectable(engine/connection) ordatabase string URI or sqlite3 DBAPI2 connectionother DBAPI2 objects are not tested, please consider using SQLAlchemy\n",
      "  warnings.warn(\n"
     ]
    },
    {
     "data": {
      "text/html": [
       "<div>\n",
       "<style scoped>\n",
       "    .dataframe tbody tr th:only-of-type {\n",
       "        vertical-align: middle;\n",
       "    }\n",
       "\n",
       "    .dataframe tbody tr th {\n",
       "        vertical-align: top;\n",
       "    }\n",
       "\n",
       "    .dataframe thead th {\n",
       "        text-align: right;\n",
       "    }\n",
       "</style>\n",
       "<table border=\"1\" class=\"dataframe\">\n",
       "  <thead>\n",
       "    <tr style=\"text-align: right;\">\n",
       "      <th></th>\n",
       "      <th>actor_id</th>\n",
       "      <th>first_name</th>\n",
       "      <th>last_name</th>\n",
       "      <th>last_update</th>\n",
       "    </tr>\n",
       "  </thead>\n",
       "  <tbody>\n",
       "    <tr>\n",
       "      <th>0</th>\n",
       "      <td>1</td>\n",
       "      <td>Penelope</td>\n",
       "      <td>Guiness</td>\n",
       "      <td>2013-05-26 14:47:57.620</td>\n",
       "    </tr>\n",
       "    <tr>\n",
       "      <th>1</th>\n",
       "      <td>2</td>\n",
       "      <td>Nick</td>\n",
       "      <td>Wahlberg</td>\n",
       "      <td>2013-05-26 14:47:57.620</td>\n",
       "    </tr>\n",
       "    <tr>\n",
       "      <th>2</th>\n",
       "      <td>3</td>\n",
       "      <td>Ed</td>\n",
       "      <td>Chase</td>\n",
       "      <td>2013-05-26 14:47:57.620</td>\n",
       "    </tr>\n",
       "    <tr>\n",
       "      <th>3</th>\n",
       "      <td>4</td>\n",
       "      <td>Jennifer</td>\n",
       "      <td>Davis</td>\n",
       "      <td>2013-05-26 14:47:57.620</td>\n",
       "    </tr>\n",
       "    <tr>\n",
       "      <th>4</th>\n",
       "      <td>5</td>\n",
       "      <td>Johnny</td>\n",
       "      <td>Lollobrigida</td>\n",
       "      <td>2013-05-26 14:47:57.620</td>\n",
       "    </tr>\n",
       "    <tr>\n",
       "      <th>...</th>\n",
       "      <td>...</td>\n",
       "      <td>...</td>\n",
       "      <td>...</td>\n",
       "      <td>...</td>\n",
       "    </tr>\n",
       "    <tr>\n",
       "      <th>195</th>\n",
       "      <td>196</td>\n",
       "      <td>Bela</td>\n",
       "      <td>Walken</td>\n",
       "      <td>2013-05-26 14:47:57.620</td>\n",
       "    </tr>\n",
       "    <tr>\n",
       "      <th>196</th>\n",
       "      <td>197</td>\n",
       "      <td>Reese</td>\n",
       "      <td>West</td>\n",
       "      <td>2013-05-26 14:47:57.620</td>\n",
       "    </tr>\n",
       "    <tr>\n",
       "      <th>197</th>\n",
       "      <td>198</td>\n",
       "      <td>Mary</td>\n",
       "      <td>Keitel</td>\n",
       "      <td>2013-05-26 14:47:57.620</td>\n",
       "    </tr>\n",
       "    <tr>\n",
       "      <th>198</th>\n",
       "      <td>199</td>\n",
       "      <td>Julia</td>\n",
       "      <td>Fawcett</td>\n",
       "      <td>2013-05-26 14:47:57.620</td>\n",
       "    </tr>\n",
       "    <tr>\n",
       "      <th>199</th>\n",
       "      <td>200</td>\n",
       "      <td>Thora</td>\n",
       "      <td>Temple</td>\n",
       "      <td>2013-05-26 14:47:57.620</td>\n",
       "    </tr>\n",
       "  </tbody>\n",
       "</table>\n",
       "<p>200 rows × 4 columns</p>\n",
       "</div>"
      ],
      "text/plain": [
       "     actor_id first_name     last_name             last_update\n",
       "0           1   Penelope       Guiness 2013-05-26 14:47:57.620\n",
       "1           2       Nick      Wahlberg 2013-05-26 14:47:57.620\n",
       "2           3         Ed         Chase 2013-05-26 14:47:57.620\n",
       "3           4   Jennifer         Davis 2013-05-26 14:47:57.620\n",
       "4           5     Johnny  Lollobrigida 2013-05-26 14:47:57.620\n",
       "..        ...        ...           ...                     ...\n",
       "195       196       Bela        Walken 2013-05-26 14:47:57.620\n",
       "196       197      Reese          West 2013-05-26 14:47:57.620\n",
       "197       198       Mary        Keitel 2013-05-26 14:47:57.620\n",
       "198       199      Julia       Fawcett 2013-05-26 14:47:57.620\n",
       "199       200      Thora        Temple 2013-05-26 14:47:57.620\n",
       "\n",
       "[200 rows x 4 columns]"
      ]
     },
     "execution_count": 15,
     "metadata": {},
     "output_type": "execute_result"
    }
   ],
   "source": [
    "# Query All Records in the the Census Tables\n",
    "actor_data = pd.read_sql(\"SELECT * FROM actor\", conn)\n",
    "actor_data"
   ]
  },
  {
   "cell_type": "code",
   "execution_count": null,
   "id": "5ebe53fd",
   "metadata": {},
   "outputs": [],
   "source": []
  }
 ],
 "metadata": {
  "kernelspec": {
   "display_name": "Python 3 (ipykernel)",
   "language": "python",
   "name": "python3"
  },
  "language_info": {
   "codemirror_mode": {
    "name": "ipython",
    "version": 3
   },
   "file_extension": ".py",
   "mimetype": "text/x-python",
   "name": "python",
   "nbconvert_exporter": "python",
   "pygments_lexer": "ipython3",
   "version": "3.10.9"
  }
 },
 "nbformat": 4,
 "nbformat_minor": 5
}
